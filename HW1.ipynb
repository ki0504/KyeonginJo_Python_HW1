{
 "cells": [
  {
   "cell_type": "code",
   "execution_count": 1,
   "id": "4cf763b0",
   "metadata": {},
   "outputs": [
    {
     "data": {
      "text/html": [
       "<img src=\"http://jupyter.org/assets/homepage/main-logo.svg\" width=\"400\" height=\"100\"/>"
      ],
      "text/plain": [
       "<IPython.core.display.Image object>"
      ]
     },
     "execution_count": 1,
     "metadata": {},
     "output_type": "execute_result"
    }
   ],
   "source": [
    "from IPython.display import Image\n",
    "Image(url=\"http://jupyter.org/assets/homepage/main-logo.svg\", width=400,height=100)"
   ]
  },
  {
   "cell_type": "code",
   "execution_count": 3,
   "id": "15258e2d",
   "metadata": {},
   "outputs": [
    {
     "name": "stdout",
     "output_type": "stream",
     "text": [
      "선택하세요(1:추가, 2:삭제, 3:종료)-->1\n",
      "추가할 데이터-->다현\n",
      "카톡 횟수-->200\n",
      "['다현']\n",
      "선택하세요(1:추가, 2:삭제, 3:종료)-->1\n",
      "추가할 데이터-->정연\n",
      "카톡 횟수-->150\n",
      "['다현', '정연']\n",
      "선택하세요(1:추가, 2:삭제, 3:종료)-->1\n",
      "추가할 데이터-->모모\n",
      "카톡 횟수-->170\n",
      "['다현', '정연', '모모']\n",
      "선택하세요(1:추가, 2:삭제, 3:종료)-->2\n",
      "삭제할 순서-->2\n",
      "['다현', '정연']\n",
      "선택하세요(1:추가, 2:삭제, 3:종료)-->2\n",
      "삭제할 순서-->3\n",
      "삭제할 데이터가 존재하지 않습니다.\n",
      "['다현', '정연']\n",
      "선택하세요(1:추가, 2:삭제, 3:종료)-->3\n",
      "['다현', '정연']\n"
     ]
    }
   ],
   "source": [
    "def find_and_insert_data(friend, k_count) :\n",
    "\n",
    "    katok.append(None)\n",
    "    kLen = len(katok)\n",
    "    katok[kLen-1] = friend\n",
    "\n",
    "    findPos = -1\n",
    "    for i in range(len(katok)) :\n",
    "        if k_count >= k_count :\n",
    "            findPos = i\n",
    "            break\n",
    "        if findPos == -1 :\n",
    "            findPos = len(katok)\n",
    "        \n",
    "        insert_data(findPos, (friend, k_count))\n",
    "        \n",
    "    \n",
    "def insert_data(position, friend) :\n",
    "    \n",
    "    if position < 0 or position > len(katok) :\n",
    "        print(\"삭제할 데이터가 존재하지 않습니다.\")\n",
    "        return\n",
    "    \n",
    "    katok.append(None)\n",
    "    kLen = len(katok)\n",
    "    \n",
    "    for i in range(kLen-1, position, -1) :\n",
    "        katok[i] = katok[i-1]\n",
    "        katok[i-1] = None\n",
    "        \n",
    "    katok[position] = friend\n",
    "    \n",
    "def delete_data(position) :\n",
    "    \n",
    "    if position < 0 or position > len(katok) :\n",
    "        print(\"삭제할 데이터가 존재하지 않습니다.\")\n",
    "        return\n",
    "    \n",
    "    kLen = len(katok)\n",
    "    katok[position] = None\n",
    "    \n",
    "    for i in range(position+1, kLen):\n",
    "        katok[i-1] = katok[i]\n",
    "        katok[i] = None\n",
    "        \n",
    "    del(katok[kLen-1])\n",
    "    \n",
    "katok = []\n",
    "select = -1\n",
    "\n",
    "if __name__==\"__main__\" :\n",
    "    \n",
    "    while (select != 3) :\n",
    "        \n",
    "        select = int(input(\"선택하세요(1:추가, 2:삭제, 3:종료)-->\"))\n",
    "        \n",
    "        if (select == 1) :\n",
    "            friend = input(\"추가할 데이터-->\")\n",
    "            k_count = int(input(\"카톡 횟수-->\"))\n",
    "            find_and_insert_data(friend, k_count)\n",
    "            print(katok)\n",
    "        elif (select == 2) :\n",
    "            pos = int(input(\"삭제할 순서-->\"))\n",
    "            delete_data(pos)\n",
    "            print(katok)\n",
    "        elif(select == 3) :\n",
    "            print(katok)\n",
    "            exit\n",
    "        else :\n",
    "            print(\"1~3 중 하나를 입력하세요.\")\n",
    "            continue"
   ]
  },
  {
   "cell_type": "code",
   "execution_count": null,
   "id": "96868a92",
   "metadata": {},
   "outputs": [],
   "source": []
  }
 ],
 "metadata": {
  "kernelspec": {
   "display_name": "Python 3 (ipykernel)",
   "language": "python",
   "name": "python3"
  },
  "language_info": {
   "codemirror_mode": {
    "name": "ipython",
    "version": 3
   },
   "file_extension": ".py",
   "mimetype": "text/x-python",
   "name": "python",
   "nbconvert_exporter": "python",
   "pygments_lexer": "ipython3",
   "version": "3.9.12"
  }
 },
 "nbformat": 4,
 "nbformat_minor": 5
}
